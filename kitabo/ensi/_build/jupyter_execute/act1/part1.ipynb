{
 "cells": [
  {
   "cell_type": "markdown",
   "metadata": {},
   "source": [
    "# Ecce Agnus Dei: The Mind's Memory\n",
    "\n",
    "<iframe \n",
    "    src=\"https://www.youtube.com/embed/9rOvEPYNEsc?start=1260\"\n",
    "    style=\"width:80%;height:350px;\">\n",
    "</iframe>\n",
    "\n",
    "```{figure} ../figures/blanche.*\n",
    "---\n",
    "width: 1 \n",
    "height: 1 \n",
    "---\n",
    "_Chess vs. Music Memory_. I'm watching Kasparov reconstruct the last 20 or so chess moves of this game. The realized nodes and edges & what might have been more strategic moves. What comes to mind is that I simply don't have this capacity, but can reconstruct the rhythm, harmony, and melody of a song as impressively as he does this here.\n",
    "```\n",
    "\n",
    "[1]: The embedded video showcases Garry Kasparov demonstrating his exceptional ability to analyze and recall complex chess moves, providing a visual representation of high-level memory in chess.\n",
    "\n",
    "[2]: For a deeper understanding of 'nodes and edges' in chess strategy, see 'Chess Structures: A Grandmaster Guide' by Mauricio Flores Rios, which explains positional patterns and their implications.\n",
    "\n",
    "[3]: Studies in cognitive science, such as those by William Forde Thompson, draw parallels between memory processes in music and strategic games like chess. This comparison helps illustrate how different domains can exhibit similar cognitive mechanisms.\n"
   ]
  }
 ],
 "metadata": {
  "kernelspec": {
   "display_name": "myenv",
   "language": "python",
   "name": "python3"
  },
  "language_info": {
   "codemirror_mode": {
    "name": "ipython",
    "version": 3
   },
   "file_extension": ".py",
   "mimetype": "text/x-python",
   "name": "python",
   "nbconvert_exporter": "python",
   "pygments_lexer": "ipython3",
   "version": "3.12.4"
  },
  "widgets": {
   "application/vnd.jupyter.widget-state+json": {
    "state": {},
    "version_major": 2,
    "version_minor": 0
   }
  }
 },
 "nbformat": 4,
 "nbformat_minor": 4
}