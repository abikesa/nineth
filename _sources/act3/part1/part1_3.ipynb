{
 "cells": [
  {
   "cell_type": "markdown",
   "metadata": {},
   "source": [
    "# Forward\n",
    "\n",
    "*The views expressed in this book are the outcome of my thinking after 25 years in medicine, first as a practitioner and later as a teacher. They inevitably reflect the totality of my experience, background, and beliefs, and so, no doubt, my Ugandan origins, Christian upbringing, and emotionally secure childhood.*        \n",
    "-- The nature of Social Work, Sofia T. Butrym (Paraphrased to fit my story c. 2024)\n",
    "\n",
    "```{figure} ../../figures/zofia-b1.*\n",
    "---\n",
    "width: 100%\n",
    "height: 100%\n",
    "---\n",
    "_I read this in 1999 in 1st Year of Medical School_. Every word in the paragraph embodied what I was becoming. And in 2024 at the end of my academic career it is almost prophetic, as I transition focus from \"self\" to \"neighbor\", but ultimately \"god\".\n",
    "```\n",
    "\n",
    "![](../../figures/zofia-b2.jpeg)"
   ]
  }
 ],
 "metadata": {
  "kernelspec": {
   "display_name": "myenv",
   "language": "python",
   "name": "python3"
  },
  "language_info": {
   "codemirror_mode": {
    "name": "ipython",
    "version": 3
   },
   "file_extension": ".py",
   "mimetype": "text/x-python",
   "name": "python",
   "nbconvert_exporter": "python",
   "pygments_lexer": "ipython3",
   "version": "3.12.4"
  },
  "widgets": {
   "application/vnd.jupyter.widget-state+json": {
    "state": {},
    "version_major": 2,
    "version_minor": 0
   }
  }
 },
 "nbformat": 4,
 "nbformat_minor": 4
}
